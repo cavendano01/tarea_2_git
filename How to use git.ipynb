{
 "metadata": {
  "language_info": {
   "codemirror_mode": {
    "name": "ipython",
    "version": 3
   },
   "file_extension": ".py",
   "mimetype": "text/x-python",
   "name": "python",
   "nbconvert_exporter": "python",
   "pygments_lexer": "ipython3",
   "version": 3
  },
  "orig_nbformat": 2
 },
 "nbformat": 4,
 "nbformat_minor": 2,
 "cells": [
  {
   "source": [
    "# ¿Qué es control de versión?\n",
    "\n",
    "## Una comparación útil\n",
    "\n",
    "Cuando trabajamos en proyectos de códigos es importante asegurarnos de tener un mecanismo de seguridad en caso de perder información. La versión más sencilla de esto es al final del día hacer una copia de nuestra carpeta de trabajo y guardarla con la fecha.  Idealmente podemos de esta manera tomar snapshots de lo que esta pasando y volver a una versión anterior si esto funciona.\n",
    "\n",
    "Si queremos colaborar con otras personas podemos hacerlo un adjunto, enviarlo y luego corregir cualquier error que venga y combinar ambas versiones ¿qué pasa cuando estamos colaboración lleva a discrepancias? ¿O si necesitamos trabajar en un Bug mientras desarrollamos otra funcionalidad?\n",
    "\n",
    "## Las ventajas de Git\n",
    "\n",
    "Un sistema de control de versión, de los cuales Git es el más popular, está diseñado para que podamos colaborar con diferentes personas, combinar nuestro trabajo y lidiar con los problemas más comunes que este flujo de trabajo pueda tener."
   ],
   "cell_type": "markdown",
   "metadata": {}
  },
  {
   "source": [
    "# ¿Cuál es el modelo de datos de Git?\n",
    "## Lo básico\n",
    "Git modela la historia como una colección de archivos y folders con un directorio principal, todo dentro de esta colección es almacenado y comparado con versiones anteriores.\n",
    "\n",
    "Git utiliza una estructura de datos recursiva, lo que significa que objetos dentro del árbol pueden ser similares o diferentes al objeto al que pertenecen. La unidad final de Git que no puede ser recursiva es un Blob, que corresponde a un grupo de bytes."
   ],
   "cell_type": "markdown",
   "metadata": {}
  },
  {
   "source": [
    "## Modelando la historia\n",
    "\n",
    "Volviendo a nuestro ejemplo original de colaboración con folders, GitHub utiliza la misma lógica de almacenar snapshots a los cuales llama commit, pero en este caso nos permite crear nuevos commits que son parte de una rama (cuando trabajamos en diferentes features)  y poder volver a ellos."
   ],
   "cell_type": "markdown",
   "metadata": {}
  },
  {
   "source": [
    "%paste\n",
    "\n",
    "A <-- B <-- C <-- Cy <-----D\n",
    "            ^              ^   \n",
    "             \\            /\n",
    "              --- Cx <-- Cx2\n",
    "\n",
    "## -- End pasted text --"
   ],
   "cell_type": "code",
   "metadata": {},
   "execution_count": null,
   "outputs": []
  },
  {
   "source": [
    "En la \"imagen\" anterior, la rama principal o master es desde el commit A al commit D, pero desde C creamos una Rama que puede tratar un bug o una nueva feature. Cada Commit tiene uno o varios padres que es el snapshot de dónde salen. \n",
    "\n",
    "Por Ejemplo  A,B y C tienen un solo padre cada uno, Cx y Cy son ambos childs de C y D tiene dos padres ya que es un merge."
   ],
   "cell_type": "markdown",
   "metadata": {}
  },
  {
   "source": [
    "## Directed acyclic graph model, y cómo se come\n",
    "\n",
    "Git utiliza un modelo gráfico acíclico directo, esto significa entre otras cosas que es rercursivo y que utiliza diferentes objetos, a la vez es acíclico pues nos permite combinar diferentes ramas y resolver discrepancias entre ellas.\n",
    "\n",
    "Existen tres tipos de objetos utilizados para almacenar los datos\n",
    "\n",
    "Blob | Tree | Commit\n",
    "\n",
    "    Blob = Array <byte>\n",
    "\n",
    "Podemos pensar en un Blob como un archivo de texto e incluso este cuaderno de Jupiter\n",
    "\n",
    "    Tree = map <string, tree | Blob>\n",
    "\n",
    "    Commit = Structure contains\n",
    "\n",
    "        Parents > Array<commit>\n",
    "\n",
    "        Author: String\n",
    "\n",
    "        Message: String\n",
    "\n",
    "        Sanpshot: Tree"
   ],
   "cell_type": "markdown",
   "metadata": {}
  },
  {
   "source": [
    "## En resumen\n",
    "\n",
    "Cada comando de Git que utilizamos es en realidad una manipulación que hacemos a esta estructura de gráfico, estamos interactuando con el árbol, sus ramas y commits."
   ],
   "cell_type": "markdown",
   "metadata": {}
  },
  {
   "source": [
    "# Git y Github en la Práctica\n",
    "##  Repositorios\n",
    "podemos definir un repositirio como la recolección de snapshots (commits) que Git ha estado guardando. Imaginemos que es el mapa gráfico del que hemos hablado y que con los comandos de git podemos acceder a cualquiera de los puntos en este mapa."
   ],
   "cell_type": "markdown",
   "metadata": {}
  },
  {
   "source": [
    "%paste\n",
    "\n",
    "A <-- B <-- C <-- Cy <-----D\n",
    "            ^              ^   \n",
    "             \\            /\n",
    "              --- Cx <-- Cx2\n",
    "\n",
    "## -- End pasted text --"
   ],
   "cell_type": "code",
   "metadata": {},
   "execution_count": null,
   "outputs": []
  },
  {
   "source": [
    "## Comandos principales\n",
    "\n",
    "A continuación utilizaré los comandos que he utilizado en la creación de este documento:\n",
    "\n",
    "git init\n",
    "\n",
    "git add \n",
    "\n",
    "git commit\n",
    "\n"
   ],
   "cell_type": "markdown",
   "metadata": {}
  },
  {
   "source": [
    "%paste\n",
    "\n",
    "git init \n",
    "## Inicializa Git en el directorio activo\n",
    "\n",
    "git add <archivo>\n",
    "## Agrega un archivo nuevo al staging para que este listo para un commit\n",
    "\n",
    "git push <Nombre de repositorio>\n",
    "##Crea un nuevo commit"
   ],
   "cell_type": "code",
   "metadata": {},
   "execution_count": null,
   "outputs": []
  }
 ]
}